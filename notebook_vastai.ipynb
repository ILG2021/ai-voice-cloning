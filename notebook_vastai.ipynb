{
  "cells": [
    {
      "cell_type": "markdown",
      "metadata": {
        "id": "ni41hmE03DL6"
      },
      "source": [
        "## Initialization"
      ]
    },
    {
      "cell_type": "code",
      "execution_count": null,
      "metadata": {
        "id": "FtsMKKfH18iM"
      },
      "outputs": [],
      "source": [
        "!git clone https://github.com/ILG2021/ai-voice-cloning --recursive\n",
        "%cd /workspace/ai-voice-cloning\n",
        "\n",
        "# install requirements\n",
        "!python3 -m pip install -r ./modules/tortoise-tts/requirements.txt # install TorToiSe requirements\n",
        "!python3 -m pip install -r ./modules/dlas/requirements.txt # instal DLAS requirements, last, because whisperx will break a dependency here\n",
        "!python3 -m pip install -r ./requirements.txt # install local requirements\n",
        "\n",
        "!python3 -m pip install -e ./modules/tortoise-tts/ # install TorToiSe\n",
        "!python3 -m pip install -e ./modules/dlas/ # install DLAS"
      ]
    },
    {
      "cell_type": "markdown",
      "metadata": {
        "id": "EM3iNqgJF6Be"
      },
      "source": [
        "## Running"
      ]
    },
    {
      "cell_type": "code",
      "execution_count": null,
      "metadata": {
        "id": "QRA8jF3cF-YJ"
      },
      "outputs": [],
      "source": [
        "%cd /workspace/ai-voice-cloning/\n",
        "!python3 ./src/main.py --share"
      ]
    },
    {
      "cell_type": "markdown",
      "metadata": {
        "id": "2AnVQxEJx47p"
      },
      "source": [
        "## Exporting"
      ]
    },
    {
      "cell_type": "code",
      "execution_count": null,
      "metadata": {
        "id": "YOACiDCXx72G"
      },
      "outputs": [],
      "source": [
        "# if you're not using drive mounting\n",
        "%cd /workspace/ai-voice-cloning\n",
        "!apt install -y p7zip-full\n",
        "from datetime import datetime\n",
        "timestamp = datetime.now().strftime('%m-%d-%Y_%H:%M:%S')\n",
        "!mkdir -p \"../{timestamp}/results\"\n",
        "!mv ./results/* \"../{timestamp}/results/.\"\n",
        "!mv ./training/* \"../{timestamp}/training/.\"\n",
        "!7z a -t7z -m0=lzma2 -mx=9 -mfb=64 -md=32m -ms=on \"../{timestamp}.7z\" \"../{timestamp}/\"\n",
        "!ls ~/\n",
        "!echo \"Finished zipping, archive is available at {timestamp}.7z\""
      ]
    }
  ],
  "metadata": {
    "accelerator": "GPU",
    "colab": {
      "private_outputs": true,
      "provenance": []
    },
    "gpuClass": "standard",
    "kernelspec": {
      "display_name": "Python 3",
      "name": "python3"
    },
    "language_info": {
      "name": "python"
    }
  },
  "nbformat": 4,
  "nbformat_minor": 0
}
