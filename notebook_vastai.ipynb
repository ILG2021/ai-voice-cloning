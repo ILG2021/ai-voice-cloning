{
  "nbformat": 4,
  "nbformat_minor": 0,
  "metadata": {
    "colab": {
      "private_outputs": true,
      "provenance": []
    },
    "kernelspec": {
      "name": "python3",
      "display_name": "Python 3"
    },
    "language_info": {
      "name": "python"
    },
    "accelerator": "GPU",
    "gpuClass": "standard"
  },
  "cells": [
    {
      "cell_type": "markdown",
      "source": [
        "## Initialization"
      ],
      "metadata": {
        "id": "ni41hmE03DL6"
      }
    },
    {
      "cell_type": "code",
      "execution_count": null,
      "metadata": {
        "id": "FtsMKKfH18iM"
      },
      "outputs": [],
      "source": [
        "!git clone https://github.com/ILG2021/ai-voice-cloning --recursive\n",
        "%cd /content/ai-voice-cloning\n",
        "\n",
        "# install requirements\n",
        "!python3 -m pip install -r ./modules/tortoise-tts/requirements.txt # install TorToiSe requirements\n",
        "!python3 -m pip install -r ./modules/dlas/requirements.txt # instal DLAS requirements, last, because whisperx will break a dependency here\n",
        "!python3 -m pip install -r ./requirements.txt # install local requirements\n",
        "\n",
        "!python3 -m pip install -e ./modules/tortoise-tts/ # install TorToiSe\n",
        "!python3 -m pip install -e ./modules/dlas/ # install DLAS"
      ]
    },
    {
      "cell_type": "markdown",
      "source": [
        "## Running"
      ],
      "metadata": {
        "id": "EM3iNqgJF6Be"
      }
    },
    {
      "cell_type": "code",
      "source": [
        "%cd /content/ai-voice-cloning/\n",
        "!python3 ./src/main.py --share"
      ],
      "metadata": {
        "id": "QRA8jF3cF-YJ"
      },
      "execution_count": null,
      "outputs": []
    },
    {
      "cell_type": "markdown",
      "source": [
        "## Exporting"
      ],
      "metadata": {
        "id": "2AnVQxEJx47p"
      }
    },
    {
      "cell_type": "code",
      "source": [
        "# if you're not using drive mounting\n",
        "%cd /content/ai-voice-cloning\n",
        "!apt install -y p7zip-full\n",
        "from datetime import datetime\n",
        "timestamp = datetime.now().strftime('%m-%d-%Y_%H:%M:%S')\n",
        "!mkdir -p \"../{timestamp}/results\"\n",
        "!mv ./results/* \"../{timestamp}/results/.\"\n",
        "!mv ./training/* \"../{timestamp}/training/.\"\n",
        "!7z a -t7z -m0=lzma2 -mx=9 -mfb=64 -md=32m -ms=on \"../{timestamp}.7z\" \"../{timestamp}/\"\n",
        "!ls ~/\n",
        "!echo \"Finished zipping, archive is available at {timestamp}.7z\""
      ],
      "metadata": {
        "id": "YOACiDCXx72G"
      },
      "execution_count": null,
      "outputs": []
    }
  ]
}